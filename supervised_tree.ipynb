{
 "cells": [
  {
   "cell_type": "code",
   "execution_count": 3,
   "metadata": {},
   "outputs": [],
   "source": [
    "import numpy as np\n",
    "import pandas as pd\n",
    "import matplotlib.pyplot as plt\n",
    "import seaborn as sns\n",
    "\n",
    "from sklearn.datasets import load_digits, load_iris, make_blobs, load_breast_cancer\n",
    "from sklearn.tree import DecisionTreeClassifier, export_graphviz, DecisionTreeRegressor\n",
    "from sklearn.ensemble import RandomForestClassifier\n",
    "from sklearn.metrics import accuracy_score, confusion_matrix, ConfusionMatrixDisplay\n",
    "\n",
    "import graphviz\n",
    "\n",
    "\n",
    "import matplotlib.image as mpimg"
   ]
  },
  {
   "cell_type": "code",
   "execution_count": 4,
   "metadata": {},
   "outputs": [],
   "source": [
    "RANDOM_STATE = 24\n",
    "np.random.seed(RANDOM_STATE)\n",
    "\n",
    "TEST_SIZE = 0.2"
   ]
  },
  {
   "cell_type": "code",
   "execution_count": 5,
   "metadata": {},
   "outputs": [
    {
     "data": {
      "text/plain": [
       "'decision_tree.png'"
      ]
     },
     "execution_count": 5,
     "metadata": {},
     "output_type": "execute_result"
    }
   ],
   "source": [
    "decision_tree = graphviz.Digraph(node_attr={'shape':'box'},\n",
    "                                 edge_attr={'labeldistance':'10.5'},\n",
    "                                 format = 'png')\n",
    "decision_tree.node(\"0\",'Has Feathers?')\n",
    "decision_tree.node(\"1\",'Can Fly?')\n",
    "decision_tree.node(\"2\",'Fins?')\n",
    "decision_tree.node(\"3\",'Hawk?')\n",
    "decision_tree.node(\"4\",'Penguin?')\n",
    "decision_tree.node(\"5\",'Dolphin?')\n",
    "decision_tree.node(\"6\",'Bear?')\n",
    "\n",
    "decision_tree.edge(\"0\",\"1\", label = \"True\")\n",
    "decision_tree.edge(\"0\",\"2\", label = \"False\")\n",
    "\n",
    "decision_tree.edge(\"1\",\"3\", label = \"True\")\n",
    "decision_tree.edge(\"1\",\"4\", label = \"False\")\n",
    "\n",
    "decision_tree.edge(\"2\",\"5\", label = \"True\")\n",
    "decision_tree.edge(\"2\",\"6\", label = \"False\")\n",
    "\n",
    "decision_tree.render('decision_tree')"
   ]
  },
  {
   "cell_type": "code",
   "execution_count": 7,
   "metadata": {},
   "outputs": [
    {
     "data": {
      "text/plain": [
       "((455, 30), (114, 30), (455,), (114,))"
      ]
     },
     "execution_count": 7,
     "metadata": {},
     "output_type": "execute_result"
    }
   ],
   "source": [
    "from sklearn.model_selection import train_test_split\n",
    "data = load_breast_cancer()\n",
    "\n",
    "X_train, X_test, y_train, y_test = train_test_split(data.data, data.target,\n",
    "                                                    random_state=RANDOM_STATE,\n",
    "                                                    test_size=TEST_SIZE,\n",
    "                                                    stratify=data.target)\n",
    "\n",
    "X_train.shape, X_test.shape, y_train.shape, y_test.shape"
   ]
  },
  {
   "cell_type": "code",
   "execution_count": 12,
   "metadata": {},
   "outputs": [
    {
     "name": "stdout",
     "output_type": "stream",
     "text": [
      "Train 0.9824175824175824\n",
      "Test 0.8859649122807017\n"
     ]
    }
   ],
   "source": [
    "tree = DecisionTreeClassifier(max_depth=3, random_state=RANDOM_STATE)\n",
    "tree.fit(X_train, y_train)\n",
    "y_pred = tree.predict(X_train)\n",
    "print('Train', accuracy_score(y_train,y_pred))\n",
    "y_pred = tree.predict(X_test)\n",
    "print('Test', accuracy_score(y_test, y_pred))"
   ]
  },
  {
   "cell_type": "code",
   "execution_count": 14,
   "metadata": {},
   "outputs": [
    {
     "data": {
      "text/plain": [
       "dict_keys(['data', 'target', 'frame', 'target_names', 'DESCR', 'feature_names', 'filename', 'data_module'])"
      ]
     },
     "execution_count": 14,
     "metadata": {},
     "output_type": "execute_result"
    }
   ],
   "source": [
    "data.keys()"
   ]
  },
  {
   "cell_type": "code",
   "execution_count": 15,
   "metadata": {},
   "outputs": [],
   "source": [
    "export_graphviz(tree,out_file='tree.dot',impurity=False,filled=True,\n",
    "                class_names=data.target_names,\n",
    "                feature_names=data.feature_names)"
   ]
  },
  {
   "cell_type": "code",
   "execution_count": 21,
   "metadata": {},
   "outputs": [],
   "source": [
    "import graphviz.sources\n",
    "import graphviz\n",
    "\n",
    "with open('tree.dot') as f:\n",
    "    dot_graph = f.read()\n",
    "img = graphviz.Source(dot_graph)\n",
    "!dot -Tpng tree.dot -o tree.png"
   ]
  }
 ],
 "metadata": {
  "kernelspec": {
   "display_name": "base",
   "language": "python",
   "name": "python3"
  },
  "language_info": {
   "codemirror_mode": {
    "name": "ipython",
    "version": 3
   },
   "file_extension": ".py",
   "mimetype": "text/x-python",
   "name": "python",
   "nbconvert_exporter": "python",
   "pygments_lexer": "ipython3",
   "version": "3.11.7"
  }
 },
 "nbformat": 4,
 "nbformat_minor": 2
}
